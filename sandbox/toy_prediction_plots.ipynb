{
 "cells": [
  {
   "cell_type": "code",
   "execution_count": 48,
   "metadata": {
    "collapsed": false
   },
   "outputs": [],
   "source": [
    "import pony.orm as porm\n",
    "import database as db\n",
    "import pandas as pd\n",
    "from datetime import date\n",
    "import station_names\n",
    "import getpass\n",
    "import matplotlib.pyplot as plt\n",
    "% matplotlib inline\n",
    "\n",
    "import numpy as np\n",
    "import time\n",
    "import warnings\n",
    "from calendar import monthrange"
   ]
  },
  {
   "cell_type": "code",
   "execution_count": 2,
   "metadata": {
    "collapsed": false
   },
   "outputs": [],
   "source": [
    "db.set_up_connection(db.db, 'db_weather', user ='webscrapers', password='bCCnw3b') #bCCnw3b"
   ]
  },
  {
   "cell_type": "code",
   "execution_count": null,
   "metadata": {
    "collapsed": false
   },
   "outputs": [],
   "source": []
  },
  {
   "cell_type": "code",
   "execution_count": 19,
   "metadata": {
    "collapsed": false
   },
   "outputs": [],
   "source": [
    "#query = db.HourlyPrediction.select(lambda m : m.city== 'BERLIN' and m.date_for_which_weather_is_predicted=='2018-06-09').get_sql()\n",
    "inputlist = [\"BERLIN\", '2018-06-29 13:00:00']\n",
    "\n",
    "query = db.HourlyPrediction.select(lambda m : m.city== inputlist[0] and m.date_for_which_weather_is_predicted == inputlist[1])"
   ]
  },
  {
   "cell_type": "code",
   "execution_count": 21,
   "metadata": {
    "collapsed": false
   },
   "outputs": [
    {
     "name": "stdout",
     "output_type": "stream",
     "text": [
      "lambda m: m.city==\"BERLIN\" and m.date_for_which_weather_is_predicted==\"2018-06-29 13:00:00\"\n"
     ]
    }
   ],
   "source": [
    "inputdict = {'city' : '\"BERLIN\"','date_for_which_weather_is_predicted' : '\"2018-06-29 13:00:00\"'}\n",
    "\n",
    "querystring_list = ['m.{}=={}'.format(key, val) for key,val in inputdict.items()]\n",
    "\n",
    "querystring = 'lambda m: ' + querystring_list[0]\n",
    "if len(inputdict)>1:\n",
    "    for i in range(1,len(inputdict)):\n",
    "        querystring += ' and '+querystring_list[i]\n",
    "\n",
    "print(querystring)"
   ]
  },
  {
   "cell_type": "code",
   "execution_count": 34,
   "metadata": {
    "collapsed": false
   },
   "outputs": [
    {
     "data": {
      "text/html": [
       "<div>\n",
       "<table border=\"1\" class=\"dataframe\">\n",
       "  <thead>\n",
       "    <tr style=\"text-align: right;\">\n",
       "      <th></th>\n",
       "      <th>id</th>\n",
       "      <th>website</th>\n",
       "      <th>city</th>\n",
       "      <th>date_of_acquisition</th>\n",
       "      <th>date_for_which_weather_is_predicted</th>\n",
       "      <th>temperature_max</th>\n",
       "      <th>temperature_min</th>\n",
       "      <th>wind_speed</th>\n",
       "      <th>humidity</th>\n",
       "      <th>precipitation_per</th>\n",
       "      <th>precipitation_l</th>\n",
       "      <th>wind_direction</th>\n",
       "      <th>condition</th>\n",
       "      <th>snow</th>\n",
       "      <th>uvi</th>\n",
       "    </tr>\n",
       "  </thead>\n",
       "  <tbody>\n",
       "    <tr>\n",
       "      <th>0</th>\n",
       "      <td>113</td>\n",
       "      <td>The Weather Channel</td>\n",
       "      <td>BERLIN</td>\n",
       "      <td>2018-06-27</td>\n",
       "      <td>2018-06-29</td>\n",
       "      <td>28.0</td>\n",
       "      <td>12.0</td>\n",
       "      <td>19.0</td>\n",
       "      <td>46.0</td>\n",
       "      <td>0.0</td>\n",
       "      <td>None</td>\n",
       "      <td>NNW</td>\n",
       "      <td>Clear</td>\n",
       "      <td>0.0</td>\n",
       "      <td>None</td>\n",
       "    </tr>\n",
       "    <tr>\n",
       "      <th>1</th>\n",
       "      <td>163</td>\n",
       "      <td>The Weather Channel</td>\n",
       "      <td>BERLIN</td>\n",
       "      <td>2018-06-27</td>\n",
       "      <td>2018-06-29</td>\n",
       "      <td>29.0</td>\n",
       "      <td>12.0</td>\n",
       "      <td>21.0</td>\n",
       "      <td>46.0</td>\n",
       "      <td>0.0</td>\n",
       "      <td>None</td>\n",
       "      <td>NNW</td>\n",
       "      <td>Clear</td>\n",
       "      <td>0.0</td>\n",
       "      <td>None</td>\n",
       "    </tr>\n",
       "    <tr>\n",
       "      <th>2</th>\n",
       "      <td>213</td>\n",
       "      <td>The Weather Channel</td>\n",
       "      <td>BERLIN</td>\n",
       "      <td>2018-06-27</td>\n",
       "      <td>2018-06-29</td>\n",
       "      <td>29.0</td>\n",
       "      <td>12.0</td>\n",
       "      <td>21.0</td>\n",
       "      <td>46.0</td>\n",
       "      <td>0.0</td>\n",
       "      <td>None</td>\n",
       "      <td>NNW</td>\n",
       "      <td>Clear</td>\n",
       "      <td>0.0</td>\n",
       "      <td>None</td>\n",
       "    </tr>\n",
       "    <tr>\n",
       "      <th>3</th>\n",
       "      <td>283</td>\n",
       "      <td>The Weather Channel</td>\n",
       "      <td>BERLIN</td>\n",
       "      <td>2018-06-27</td>\n",
       "      <td>2018-06-29</td>\n",
       "      <td>29.0</td>\n",
       "      <td>12.0</td>\n",
       "      <td>21.0</td>\n",
       "      <td>45.0</td>\n",
       "      <td>0.0</td>\n",
       "      <td>None</td>\n",
       "      <td>NNW</td>\n",
       "      <td>Clear</td>\n",
       "      <td>0.0</td>\n",
       "      <td>None</td>\n",
       "    </tr>\n",
       "    <tr>\n",
       "      <th>4</th>\n",
       "      <td>482</td>\n",
       "      <td>The Weather Channel</td>\n",
       "      <td>BERLIN</td>\n",
       "      <td>2018-06-28</td>\n",
       "      <td>2018-06-29</td>\n",
       "      <td>29.0</td>\n",
       "      <td>12.0</td>\n",
       "      <td>21.0</td>\n",
       "      <td>44.0</td>\n",
       "      <td>0.0</td>\n",
       "      <td>None</td>\n",
       "      <td>N</td>\n",
       "      <td>Clear</td>\n",
       "      <td>0.0</td>\n",
       "      <td>None</td>\n",
       "    </tr>\n",
       "    <tr>\n",
       "      <th>5</th>\n",
       "      <td>681</td>\n",
       "      <td>The Weather Channel</td>\n",
       "      <td>BERLIN</td>\n",
       "      <td>2018-06-29</td>\n",
       "      <td>2018-06-29</td>\n",
       "      <td>29.0</td>\n",
       "      <td>12.0</td>\n",
       "      <td>23.0</td>\n",
       "      <td>42.0</td>\n",
       "      <td>0.0</td>\n",
       "      <td>None</td>\n",
       "      <td>NNW</td>\n",
       "      <td>Clear</td>\n",
       "      <td>0.0</td>\n",
       "      <td>None</td>\n",
       "    </tr>\n",
       "  </tbody>\n",
       "</table>\n",
       "</div>"
      ],
      "text/plain": [
       "    id              website    city date_of_acquisition  \\\n",
       "0  113  The Weather Channel  BERLIN          2018-06-27   \n",
       "1  163  The Weather Channel  BERLIN          2018-06-27   \n",
       "2  213  The Weather Channel  BERLIN          2018-06-27   \n",
       "3  283  The Weather Channel  BERLIN          2018-06-27   \n",
       "4  482  The Weather Channel  BERLIN          2018-06-28   \n",
       "5  681  The Weather Channel  BERLIN          2018-06-29   \n",
       "\n",
       "  date_for_which_weather_is_predicted  temperature_max  temperature_min  \\\n",
       "0                          2018-06-29             28.0             12.0   \n",
       "1                          2018-06-29             29.0             12.0   \n",
       "2                          2018-06-29             29.0             12.0   \n",
       "3                          2018-06-29             29.0             12.0   \n",
       "4                          2018-06-29             29.0             12.0   \n",
       "5                          2018-06-29             29.0             12.0   \n",
       "\n",
       "   wind_speed  humidity  precipitation_per precipitation_l wind_direction  \\\n",
       "0        19.0      46.0                0.0            None            NNW   \n",
       "1        21.0      46.0                0.0            None            NNW   \n",
       "2        21.0      46.0                0.0            None            NNW   \n",
       "3        21.0      45.0                0.0            None            NNW   \n",
       "4        21.0      44.0                0.0            None              N   \n",
       "5        23.0      42.0                0.0            None            NNW   \n",
       "\n",
       "  condition  snow   uvi  \n",
       "0     Clear   0.0  None  \n",
       "1     Clear   0.0  None  \n",
       "2     Clear   0.0  None  \n",
       "3     Clear   0.0  None  \n",
       "4     Clear   0.0  None  \n",
       "5     Clear   0.0  None  "
      ]
     },
     "execution_count": 34,
     "metadata": {},
     "output_type": "execute_result"
    }
   ],
   "source": [
    "data=db.query_to_dataframe(db.DailyPrediction.select(querystring))\n",
    "data"
   ]
  },
  {
   "cell_type": "code",
   "execution_count": 29,
   "metadata": {
    "collapsed": false
   },
   "outputs": [
    {
     "data": {
      "text/plain": [
       "<matplotlib.axes._subplots.AxesSubplot at 0x7f7874c365f8>"
      ]
     },
     "execution_count": 29,
     "metadata": {},
     "output_type": "execute_result"
    },
    {
     "data": {
      "image/png": "[encoded data removed]",
      "text/plain": [
       "<matplotlib.figure.Figure at 0x7f78752fc668>"
      ]
     },
     "metadata": {},
     "output_type": "display_data"
    }
   ],
   "source": [
    "data.temperature_max.plot()"
   ]
  },
  {
   "cell_type": "code",
   "execution_count": 57,
   "metadata": {
    "collapsed": false
   },
   "outputs": [],
   "source": [
    "#input options\n",
    "#list of columns we want to plot\n",
    "#city and dates need to be specified, also columns of data to be returned\n",
    "\n",
    "def convert_label(label):  \n",
    "    if label not in ld.ld_dwd:\n",
    "        warnings.warn('Your label was not valid and will not be plotted! If you are unsure please have a look in label_dict.py or call show_all_labels()')\n",
    "        return None\n",
    "    else:\n",
    "        return ld.ld_dwd[label]\n",
    "\n",
    "def show_all_labels():\n",
    "    '''\n",
    "        Prints all possibles labels that can be queried from the dwd data base.\n",
    "    '''\n",
    "    print(list(ld.ld_dwd.keys()))\n",
    "    \n",
    "def query_for_plot_predict(time_start, time_end, labels, cities):\n",
    "    \n",
    "    '''\n",
    "        Parameters:\n",
    "            time_start = a string giving the beginning of the interval to plot, can be a year (YYYY), \n",
    "                         year and month (YYYYMM) or year, month and day (YYYYMMDD) (later on also: or with hour (YYYYMMDDHH))\n",
    "            time_end = a string giving the end of the interval to \n",
    "            labels = The feature you want to plot e.g mean temperature, can be list or scalar. For all possible labels please see label_dict.py or call show_all_labels()\n",
    "            cities = for which city you want to plot the feature, can be list or scalar\n",
    "            NOTE: just cities OR labels can be a list, the other one need to be a single value (for now)\n",
    "        Returns:\n",
    "            name = title of the plot\n",
    "            dataframe = pandas dataframe with rows beeing the time (all timestaps can be found in a column called 'dates') \n",
    "                        and row corresoning to the freatures asked for (if both, cities and labels are single values, \n",
    "                        than the key will be the label, otherwise it will be the items in the list argument)\n",
    "    '''\n",
    "    # create dytime interval\n",
    "    t_ival=[time_start, time_end]\n",
    "\n",
    "    # make sure that the start time is before the end time, if not switch it\n",
    "    n_days = (t_ival[1]-t_ival[0]).days\n",
    "    if n_days < 0:\n",
    "        t_ival = t_ival[::-1]\n",
    "        n_days = abs(n_days)\n",
    "\n",
    "    # dict which will be converted to the dataframe later on\n",
    "    data = {}\n",
    "\n",
    "    #if one city and multiple labels are queried\n",
    "    if np.isscalar(cities) and not np.isscalar(labels):\n",
    "        # search for the dwd labels in respective dict\n",
    "        dwd_labels = [labels]\n",
    "        if len(dwd_labels) != len(labels):\n",
    "            warnings.warn('Some of your labels were not valid and will not be plotted! If you are unsure please have a look in label_dict.py or call show_all_labels()')\n",
    "        # make a query to the data base\n",
    "        query = db.DailyPrediction.select(lambda m : cities in m.city and str(t_ival[0]) <= m.date_for_which_weather_is_predicted \\\n",
    "                                          and m.date_for_which_weather_is_predicted <= str(t_ival[1]))\n",
    "        pd_query = db.query_to_dataframe(query)\n",
    "        # mean over all station with the respective city in the name\n",
    "        means_db = pd_query.sort_values('date_for_which_weather_is_predicted').groupby('date_for_which_weather_is_predicted').mean()\n",
    "        # get all queried labels\n",
    "        for li, label in enumerate(dwd_labels):\n",
    "            data[label] = list(means_db[label])\n",
    "        data['dates'] = list(means_db[label].keys())\n",
    "    # if it is asked for multiple cities and just one label\n",
    "    elif np.isscalar(labels) and not np.isscalar(cities):\n",
    "        # search for the dwd labels in respective dict\n",
    "        for ci, city in enumerate(cities):\n",
    "            # make a query to the data base for each city\n",
    "            query = db.DailyPrediction.select(lambda m : cities in m.city and str(t_ival[0]) <= m.date_for_which_weather_is_predicted \\\n",
    "                                          and m.date_for_which_weather_is_predicted <= str(t_ival[1]))\n",
    "            pd_query = db.query_to_dataframe(query)\n",
    "            # mean over all station with the respective city in the name\n",
    "            means_db = pd_query.sort_values('date_for_which_weather_is_predicted').groupby('date_for_which_weather_is_predicted').mean()\n",
    "            # get the queried label\n",
    "            data[city] = list(means_db[labels])\n",
    "        data['dates'] = list(means_db[labels].keys())\n",
    "    # if it is asked for just oen city and one label\n",
    "    else:\n",
    "        # make a query to the data base for each city\n",
    "        query = db.DailyPrediction.select(lambda m : cities in m.city and str(t_ival[0]) <= m.date_for_which_weather_is_predicted \\\n",
    "                                          and m.date_for_which_weather_is_predicted <= str(t_ival[1]))\n",
    "        pd_query =  db.query_to_dataframe(query)\n",
    "        # mean over all station with the respective city in the name\n",
    "        means_pd = pd_query.sort_values('date_for_which_weather_is_predicted').groupby('date_for_which_weather_is_predicted').mean()\n",
    "        data['dates'] = list(means_pd[labels].keys())\n",
    "        # get the queried label\n",
    "        data[labels] = list(means_pd[labels])\n",
    "\n",
    "    # create data frame where the date is now a normal column\n",
    "    data_frame = pd.DataFrame(data=data) \n",
    "    return data_frame\n",
    "    "
   ]
  },
  {
   "cell_type": "code",
   "execution_count": 58,
   "metadata": {
    "collapsed": false
   },
   "outputs": [
    {
     "data": {
      "text/html": [
       "<div>\n",
       "<table border=\"1\" class=\"dataframe\">\n",
       "  <thead>\n",
       "    <tr style=\"text-align: right;\">\n",
       "      <th></th>\n",
       "      <th>dates</th>\n",
       "      <th>temperature_max</th>\n",
       "    </tr>\n",
       "  </thead>\n",
       "  <tbody>\n",
       "    <tr>\n",
       "      <th>0</th>\n",
       "      <td>2018-06-27</td>\n",
       "      <td>24.0</td>\n",
       "    </tr>\n",
       "  </tbody>\n",
       "</table>\n",
       "</div>"
      ],
      "text/plain": [
       "        dates  temperature_max\n",
       "0  2018-06-27             24.0"
      ]
     },
     "execution_count": 58,
     "metadata": {},
     "output_type": "execute_result"
    }
   ],
   "source": [
    "cities = 'BERLIN'\n",
    "labels = 'temperature_max'\n",
    "time_start = date(2018,6,26)\n",
    "time_end = date(2018,6,27)\n",
    "\n",
    "query_for_plot_predict(time_start, time_end, labels, cities)"
   ]
  },
  {
   "cell_type": "code",
   "execution_count": null,
   "metadata": {
    "collapsed": false
   },
   "outputs": [],
   "source": []
  },
  {
   "cell_type": "code",
   "execution_count": null,
   "metadata": {
    "collapsed": false
   },
   "outputs": [],
   "source": []
  },
  {
   "cell_type": "code",
   "execution_count": null,
   "metadata": {
    "collapsed": true
   },
   "outputs": [],
   "source": []
  }
 ],
 "metadata": {
  "kernelspec": {
   "display_name": "Python 3",
   "language": "python",
   "name": "python3"
  },
  "language_info": {
   "codemirror_mode": {
    "name": "ipython",
    "version": 3
   },
   "file_extension": ".py",
   "mimetype": "text/x-python",
   "name": "python",
   "nbconvert_exporter": "python",
   "pygments_lexer": "ipython3",
   "version": "3.5.3"
  }
 },
 "nbformat": 4,
 "nbformat_minor": 2
}
