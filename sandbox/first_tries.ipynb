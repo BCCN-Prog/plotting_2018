{
 "cells": [
  {
   "cell_type": "code",
   "execution_count": 26,
   "metadata": {
    "collapsed": false
   },
   "outputs": [],
   "source": [
    "import database as db\n",
    "import datetime as dt\n",
    "import pandas as pd\n",
    "import matplotlib.pyplot as plt"
   ]
  },
  {
   "cell_type": "code",
   "execution_count": 3,
   "metadata": {
    "collapsed": false
   },
   "outputs": [
    {
     "name": "stdout",
     "output_type": "stream",
     "text": [
      "postgres user password: ········\n"
     ]
    }
   ],
   "source": [
    "db.set_up_connection(db.db, 'db_weather', user='webscrapers')"
   ]
  },
  {
   "cell_type": "code",
   "execution_count": 4,
   "metadata": {
    "collapsed": false
   },
   "outputs": [
    {
     "data": {
      "text/plain": [
       "Station[1]"
      ]
     },
     "execution_count": 4,
     "metadata": {},
     "output_type": "execute_result"
    }
   ],
   "source": [
    "db.Station.select().first()"
   ]
  },
  {
   "cell_type": "code",
   "execution_count": 47,
   "metadata": {
    "collapsed": false
   },
   "outputs": [],
   "source": [
    "query = db.DailyMeasurement.select(lambda m : 'Berlin' in m.station.stationsname and dt.date(2017,4,26) < m.mess_datum and m.mess_datum < dt.date(2017,4,30)).get_sql()"
   ]
  },
  {
   "cell_type": "code",
   "execution_count": 48,
   "metadata": {
    "collapsed": false
   },
   "outputs": [
    {
     "name": "stdout",
     "output_type": "stream",
     "text": [
      "    mess_datum  stations_id  station  qn_3    fx   fm  qn_4  rsk  rskf  \\\n",
      "0   2017-04-27          400      400   NaN   NaN  NaN     3  0.0   0.0   \n",
      "1   2017-04-28          400      400   NaN   NaN  NaN     3  0.4   4.0   \n",
      "2   2017-04-29          400      400   NaN   NaN  NaN     3  0.6   4.0   \n",
      "3   2017-04-27          403      403   NaN   NaN  NaN     3  0.0   0.0   \n",
      "4   2017-04-28          403      403   NaN   NaN  NaN     3  0.3   6.0   \n",
      "5   2017-04-29          403      403   NaN   NaN  NaN     3  0.0   8.0   \n",
      "6   2017-04-27          410      410   NaN   NaN  NaN     3  0.0   0.0   \n",
      "7   2017-04-28          410      410   NaN   NaN  NaN     3  0.0   4.0   \n",
      "8   2017-04-29          410      410   NaN   NaN  NaN     3  0.0   0.0   \n",
      "9   2017-04-27          420      420   NaN   NaN  NaN     3  0.0   0.0   \n",
      "10  2017-04-28          420      420   NaN   NaN  NaN     3  0.3   4.0   \n",
      "11  2017-04-29          420      420   NaN   NaN  NaN     3  0.2   4.0   \n",
      "12  2017-04-27          427      427  10.0   8.7  2.4     3  0.0   6.0   \n",
      "13  2017-04-28          427      427  10.0   7.7  1.9     3  0.0   6.0   \n",
      "14  2017-04-29          427      427  10.0  11.7  4.0     3  0.0   6.0   \n",
      "15  2017-04-27          430      430  10.0  11.5  2.1     3  0.0   0.0   \n",
      "16  2017-04-28          430      430  10.0   7.0  1.7     3  1.4   6.0   \n",
      "17  2017-04-29          430      430  10.0   9.6  3.0     3  0.0   6.0   \n",
      "18  2017-04-27          433      433  10.0   9.0  2.2     3  0.0   0.0   \n",
      "19  2017-04-28          433      433  10.0   6.3  1.7     3  0.2   4.0   \n",
      "20  2017-04-29          433      433  10.0  10.4  3.6     3  0.2   4.0   \n",
      "\n",
      "       sdk  shk_tag   nm  vpm       pm  tmk    upm   txk  tnk  tgk  \n",
      "0      NaN      0.0  NaN  5.9      NaN  6.1  66.38  12.9 -1.6 -3.9  \n",
      "1      NaN      0.0  NaN  6.5      NaN  7.6  65.17  13.1  0.1 -2.3  \n",
      "2      NaN      0.0  NaN  7.1      NaN  6.6  74.13  11.0  0.2 -2.2  \n",
      "3   10.383      0.0  4.4  6.1  1004.47  6.5  66.50  12.6 -0.3 -3.3  \n",
      "4    5.233      0.0  5.0  6.7  1003.55  7.7  66.17  12.3  0.9 -2.4  \n",
      "5    4.433      0.0  4.8  7.1  1007.14  6.8  73.33  11.2  0.7 -2.9  \n",
      "6    8.367      0.0  NaN  6.1      NaN  6.0  69.75  13.5 -1.5 -3.4  \n",
      "7    4.650      0.0  NaN  6.7      NaN  6.7  71.79  12.6 -0.8 -2.6  \n",
      "8    3.583      0.0  NaN  6.7      NaN  6.3  72.96  11.2 -1.3 -3.4  \n",
      "9      NaN      0.0  NaN  5.8      NaN  7.3  60.00  12.8  0.6 -1.7  \n",
      "10     NaN      0.0  NaN  6.3      NaN  8.4  59.25  12.3  1.9 -0.8  \n",
      "11     NaN      0.0  NaN  6.9      NaN  7.0  70.08  11.1  2.4 -0.2  \n",
      "12   7.367      0.0  5.1  6.0  1008.22  6.6  63.63  12.2  0.3 -3.8  \n",
      "13   4.733      0.0  5.7  6.5  1007.25  7.8  63.33  12.5  1.5 -2.9  \n",
      "14   3.400      0.0  4.9  6.6  1010.81  7.1  66.92  11.6  0.1 -3.3  \n",
      "15   8.667      0.0  4.3  5.6  1009.85  6.4  62.00  12.9 -1.6 -5.9  \n",
      "16   6.750      0.0  5.3  6.1  1008.88  8.4  58.17  13.1  0.4 -4.1  \n",
      "17   3.933      0.0  4.8  7.1  1012.55  6.7  73.38  11.0  0.5 -5.4  \n",
      "18   8.333      NaN  NaN  5.9  1008.36  7.6  59.04  13.2  0.9 -5.1  \n",
      "19   5.233      NaN  NaN  6.6  1007.45  8.6  60.83  12.2  1.9 -3.9  \n",
      "20   4.017      NaN  NaN  6.9  1011.04  7.4  68.04  12.3  1.8 -4.6  \n"
     ]
    }
   ],
   "source": [
    "pd_query = pd.read_sql(query, db.conn_url)\n",
    "print(pd_query)"
   ]
  },
  {
   "cell_type": "code",
   "execution_count": 51,
   "metadata": {
    "collapsed": false
   },
   "outputs": [
    {
     "name": "stdout",
     "output_type": "stream",
     "text": [
      "(21,)\n"
     ]
    }
   ],
   "source": [
    "temperature = pd_query['tmk']\n",
    "print(temperature.shape)"
   ]
  },
  {
   "cell_type": "code",
   "execution_count": 52,
   "metadata": {
    "collapsed": false
   },
   "outputs": [
    {
     "data": {
      "image/png": "[encoded data removed]",
      "text/plain": [
       "<matplotlib.figure.Figure at 0x7f43743c5f60>"
      ]
     },
     "metadata": {},
     "output_type": "display_data"
    }
   ],
   "source": [
    "plt.plot(range(temperature.shape[0]), temperature)\n",
    "plt.show()"
   ]
  },
  {
   "cell_type": "code",
   "execution_count": 50,
   "metadata": {
    "collapsed": false
   },
   "outputs": [
    {
     "data": {
      "text/html": [
       "<div>\n",
       "<table border=\"1\" class=\"dataframe\">\n",
       "  <thead>\n",
       "    <tr style=\"text-align: right;\">\n",
       "      <th></th>\n",
       "      <th>stations_id</th>\n",
       "      <th>von_datum</th>\n",
       "      <th>bis_datum</th>\n",
       "      <th>stationshoehe</th>\n",
       "      <th>geobreite</th>\n",
       "      <th>geolaenge</th>\n",
       "      <th>stationsname</th>\n",
       "      <th>bundesland</th>\n",
       "    </tr>\n",
       "  </thead>\n",
       "  <tbody>\n",
       "    <tr>\n",
       "      <th>0</th>\n",
       "      <td>395</td>\n",
       "      <td>1948-07-01</td>\n",
       "      <td>1953-12-31</td>\n",
       "      <td>38</td>\n",
       "      <td>52.4167</td>\n",
       "      <td>13.4833</td>\n",
       "      <td>Berlin-Adlershof</td>\n",
       "      <td>Berlin</td>\n",
       "    </tr>\n",
       "    <tr>\n",
       "      <th>1</th>\n",
       "      <td>399</td>\n",
       "      <td>1981-01-01</td>\n",
       "      <td>2015-06-29</td>\n",
       "      <td>36</td>\n",
       "      <td>52.5198</td>\n",
       "      <td>13.4057</td>\n",
       "      <td>Berlin-Alexanderplatz</td>\n",
       "      <td>Berlin</td>\n",
       "    </tr>\n",
       "    <tr>\n",
       "      <th>2</th>\n",
       "      <td>400</td>\n",
       "      <td>1961-01-01</td>\n",
       "      <td>2018-06-09</td>\n",
       "      <td>60</td>\n",
       "      <td>52.6309</td>\n",
       "      <td>13.5022</td>\n",
       "      <td>Berlin-Buch</td>\n",
       "      <td>Berlin</td>\n",
       "    </tr>\n",
       "    <tr>\n",
       "      <th>3</th>\n",
       "      <td>402</td>\n",
       "      <td>1876-01-01</td>\n",
       "      <td>1962-12-31</td>\n",
       "      <td>55</td>\n",
       "      <td>52.4564</td>\n",
       "      <td>13.2997</td>\n",
       "      <td>Berlin-Dahlem (LFAG)</td>\n",
       "      <td>Berlin</td>\n",
       "    </tr>\n",
       "    <tr>\n",
       "      <th>4</th>\n",
       "      <td>403</td>\n",
       "      <td>1950-01-01</td>\n",
       "      <td>2018-06-09</td>\n",
       "      <td>51</td>\n",
       "      <td>52.4537</td>\n",
       "      <td>13.3017</td>\n",
       "      <td>Berlin-Dahlem (FU)</td>\n",
       "      <td>Berlin</td>\n",
       "    </tr>\n",
       "    <tr>\n",
       "      <th>5</th>\n",
       "      <td>405</td>\n",
       "      <td>1951-04-01</td>\n",
       "      <td>1954-12-31</td>\n",
       "      <td>37</td>\n",
       "      <td>52.4500</td>\n",
       "      <td>13.6500</td>\n",
       "      <td>Berlin-Friedrichshagen</td>\n",
       "      <td>Berlin</td>\n",
       "    </tr>\n",
       "    <tr>\n",
       "      <th>6</th>\n",
       "      <td>407</td>\n",
       "      <td>1958-01-01</td>\n",
       "      <td>1978-03-31</td>\n",
       "      <td>48</td>\n",
       "      <td>52.6461</td>\n",
       "      <td>13.2858</td>\n",
       "      <td>Berlin-Frohnau</td>\n",
       "      <td>Berlin</td>\n",
       "    </tr>\n",
       "    <tr>\n",
       "      <th>7</th>\n",
       "      <td>408</td>\n",
       "      <td>1948-12-01</td>\n",
       "      <td>1951-11-30</td>\n",
       "      <td>35</td>\n",
       "      <td>52.5333</td>\n",
       "      <td>13.3833</td>\n",
       "      <td>Berlin-Invalidenstraße</td>\n",
       "      <td>Berlin</td>\n",
       "    </tr>\n",
       "    <tr>\n",
       "      <th>8</th>\n",
       "      <td>410</td>\n",
       "      <td>1996-06-01</td>\n",
       "      <td>2018-06-09</td>\n",
       "      <td>33</td>\n",
       "      <td>52.4040</td>\n",
       "      <td>13.7309</td>\n",
       "      <td>Berlin-Kaniswall</td>\n",
       "      <td>Berlin</td>\n",
       "    </tr>\n",
       "    <tr>\n",
       "      <th>9</th>\n",
       "      <td>416</td>\n",
       "      <td>1982-07-01</td>\n",
       "      <td>1996-09-30</td>\n",
       "      <td>47</td>\n",
       "      <td>52.4069</td>\n",
       "      <td>13.4127</td>\n",
       "      <td>Berlin-Lichtenrade</td>\n",
       "      <td>Berlin</td>\n",
       "    </tr>\n",
       "    <tr>\n",
       "      <th>10</th>\n",
       "      <td>417</td>\n",
       "      <td>1936-01-01</td>\n",
       "      <td>1956-10-31</td>\n",
       "      <td>43</td>\n",
       "      <td>52.4144</td>\n",
       "      <td>13.3036</td>\n",
       "      <td>Berlin-Lichterfelde (Süd)</td>\n",
       "      <td>Berlin</td>\n",
       "    </tr>\n",
       "    <tr>\n",
       "      <th>11</th>\n",
       "      <td>420</td>\n",
       "      <td>1993-05-01</td>\n",
       "      <td>2018-06-09</td>\n",
       "      <td>60</td>\n",
       "      <td>52.5447</td>\n",
       "      <td>13.5598</td>\n",
       "      <td>Berlin-Marzahn</td>\n",
       "      <td>Berlin</td>\n",
       "    </tr>\n",
       "    <tr>\n",
       "      <th>12</th>\n",
       "      <td>422</td>\n",
       "      <td>1956-01-01</td>\n",
       "      <td>1964-12-31</td>\n",
       "      <td>35</td>\n",
       "      <td>52.5333</td>\n",
       "      <td>13.3833</td>\n",
       "      <td>Berlin-Mitte</td>\n",
       "      <td>Berlin</td>\n",
       "    </tr>\n",
       "    <tr>\n",
       "      <th>13</th>\n",
       "      <td>424</td>\n",
       "      <td>1954-01-01</td>\n",
       "      <td>1980-12-31</td>\n",
       "      <td>36</td>\n",
       "      <td>52.5000</td>\n",
       "      <td>13.4667</td>\n",
       "      <td>Berlin-Ostkreuz</td>\n",
       "      <td>Berlin</td>\n",
       "    </tr>\n",
       "    <tr>\n",
       "      <th>14</th>\n",
       "      <td>425</td>\n",
       "      <td>1959-01-01</td>\n",
       "      <td>1982-06-30</td>\n",
       "      <td>38</td>\n",
       "      <td>52.4044</td>\n",
       "      <td>13.4838</td>\n",
       "      <td>Berlin-Rudow</td>\n",
       "      <td>Berlin</td>\n",
       "    </tr>\n",
       "    <tr>\n",
       "      <th>15</th>\n",
       "      <td>427</td>\n",
       "      <td>1967-01-01</td>\n",
       "      <td>2018-06-09</td>\n",
       "      <td>46</td>\n",
       "      <td>52.3807</td>\n",
       "      <td>13.5306</td>\n",
       "      <td>Berlin-Schönefeld</td>\n",
       "      <td>Brandenburg</td>\n",
       "    </tr>\n",
       "    <tr>\n",
       "      <th>16</th>\n",
       "      <td>429</td>\n",
       "      <td>1986-10-01</td>\n",
       "      <td>1987-01-31</td>\n",
       "      <td>32</td>\n",
       "      <td>52.5667</td>\n",
       "      <td>13.1694</td>\n",
       "      <td>Berlin-Spandau</td>\n",
       "      <td>Berlin</td>\n",
       "    </tr>\n",
       "    <tr>\n",
       "      <th>17</th>\n",
       "      <td>430</td>\n",
       "      <td>1963-01-01</td>\n",
       "      <td>2018-06-09</td>\n",
       "      <td>36</td>\n",
       "      <td>52.5644</td>\n",
       "      <td>13.3088</td>\n",
       "      <td>Berlin-Tegel</td>\n",
       "      <td>Berlin</td>\n",
       "    </tr>\n",
       "    <tr>\n",
       "      <th>18</th>\n",
       "      <td>432</td>\n",
       "      <td>1978-04-01</td>\n",
       "      <td>1994-12-31</td>\n",
       "      <td>36</td>\n",
       "      <td>52.6044</td>\n",
       "      <td>13.2952</td>\n",
       "      <td>Berlin-Tegeler Fliesstal</td>\n",
       "      <td>Berlin</td>\n",
       "    </tr>\n",
       "    <tr>\n",
       "      <th>19</th>\n",
       "      <td>433</td>\n",
       "      <td>1948-01-01</td>\n",
       "      <td>2018-06-05</td>\n",
       "      <td>48</td>\n",
       "      <td>52.4675</td>\n",
       "      <td>13.4021</td>\n",
       "      <td>Berlin-Tempelhof</td>\n",
       "      <td>Berlin</td>\n",
       "    </tr>\n",
       "    <tr>\n",
       "      <th>20</th>\n",
       "      <td>434</td>\n",
       "      <td>1947-01-01</td>\n",
       "      <td>1960-12-31</td>\n",
       "      <td>35</td>\n",
       "      <td>52.4553</td>\n",
       "      <td>13.4699</td>\n",
       "      <td>Berlin-Treptow</td>\n",
       "      <td>Berlin</td>\n",
       "    </tr>\n",
       "    <tr>\n",
       "      <th>21</th>\n",
       "      <td>435</td>\n",
       "      <td>1964-01-01</td>\n",
       "      <td>2006-12-31</td>\n",
       "      <td>45</td>\n",
       "      <td>52.4289</td>\n",
       "      <td>13.2327</td>\n",
       "      <td>Berlin-Zehlendorf</td>\n",
       "      <td>Berlin</td>\n",
       "    </tr>\n",
       "  </tbody>\n",
       "</table>\n",
       "</div>"
      ],
      "text/plain": [
       "    stations_id   von_datum   bis_datum  stationshoehe  geobreite  geolaenge  \\\n",
       "0           395  1948-07-01  1953-12-31             38    52.4167    13.4833   \n",
       "1           399  1981-01-01  2015-06-29             36    52.5198    13.4057   \n",
       "2           400  1961-01-01  2018-06-09             60    52.6309    13.5022   \n",
       "3           402  1876-01-01  1962-12-31             55    52.4564    13.2997   \n",
       "4           403  1950-01-01  2018-06-09             51    52.4537    13.3017   \n",
       "5           405  1951-04-01  1954-12-31             37    52.4500    13.6500   \n",
       "6           407  1958-01-01  1978-03-31             48    52.6461    13.2858   \n",
       "7           408  1948-12-01  1951-11-30             35    52.5333    13.3833   \n",
       "8           410  1996-06-01  2018-06-09             33    52.4040    13.7309   \n",
       "9           416  1982-07-01  1996-09-30             47    52.4069    13.4127   \n",
       "10          417  1936-01-01  1956-10-31             43    52.4144    13.3036   \n",
       "11          420  1993-05-01  2018-06-09             60    52.5447    13.5598   \n",
       "12          422  1956-01-01  1964-12-31             35    52.5333    13.3833   \n",
       "13          424  1954-01-01  1980-12-31             36    52.5000    13.4667   \n",
       "14          425  1959-01-01  1982-06-30             38    52.4044    13.4838   \n",
       "15          427  1967-01-01  2018-06-09             46    52.3807    13.5306   \n",
       "16          429  1986-10-01  1987-01-31             32    52.5667    13.1694   \n",
       "17          430  1963-01-01  2018-06-09             36    52.5644    13.3088   \n",
       "18          432  1978-04-01  1994-12-31             36    52.6044    13.2952   \n",
       "19          433  1948-01-01  2018-06-05             48    52.4675    13.4021   \n",
       "20          434  1947-01-01  1960-12-31             35    52.4553    13.4699   \n",
       "21          435  1964-01-01  2006-12-31             45    52.4289    13.2327   \n",
       "\n",
       "                 stationsname   bundesland  \n",
       "0            Berlin-Adlershof       Berlin  \n",
       "1       Berlin-Alexanderplatz       Berlin  \n",
       "2                 Berlin-Buch       Berlin  \n",
       "3        Berlin-Dahlem (LFAG)       Berlin  \n",
       "4          Berlin-Dahlem (FU)       Berlin  \n",
       "5      Berlin-Friedrichshagen       Berlin  \n",
       "6              Berlin-Frohnau       Berlin  \n",
       "7      Berlin-Invalidenstraße       Berlin  \n",
       "8            Berlin-Kaniswall       Berlin  \n",
       "9          Berlin-Lichtenrade       Berlin  \n",
       "10  Berlin-Lichterfelde (Süd)       Berlin  \n",
       "11             Berlin-Marzahn       Berlin  \n",
       "12               Berlin-Mitte       Berlin  \n",
       "13            Berlin-Ostkreuz       Berlin  \n",
       "14               Berlin-Rudow       Berlin  \n",
       "15          Berlin-Schönefeld  Brandenburg  \n",
       "16             Berlin-Spandau       Berlin  \n",
       "17               Berlin-Tegel       Berlin  \n",
       "18   Berlin-Tegeler Fliesstal       Berlin  \n",
       "19           Berlin-Tempelhof       Berlin  \n",
       "20             Berlin-Treptow       Berlin  \n",
       "21          Berlin-Zehlendorf       Berlin  "
      ]
     },
     "execution_count": 50,
     "metadata": {},
     "output_type": "execute_result"
    }
   ],
   "source": [
    "query2 = db.Station.select(lambda s: 'Berlin' in s.stationsname)\n",
    "pd.read_sql_query(query2.get_sql(), db.conn_url)"
   ]
  },
  {
   "cell_type": "code",
   "execution_count": null,
   "metadata": {
    "collapsed": true
   },
   "outputs": [],
   "source": []
  }
 ],
 "metadata": {
  "kernelspec": {
   "display_name": "Python 3",
   "language": "python",
   "name": "python3"
  },
  "language_info": {
   "codemirror_mode": {
    "name": "ipython",
    "version": 3
   },
   "file_extension": ".py",
   "mimetype": "text/x-python",
   "name": "python",
   "nbconvert_exporter": "python",
   "pygments_lexer": "ipython3",
   "version": "3.5.3"
  }
 },
 "nbformat": 4,
 "nbformat_minor": 2
}
