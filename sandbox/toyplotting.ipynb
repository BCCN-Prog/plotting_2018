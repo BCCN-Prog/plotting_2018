{
 "cells": [
  {
   "cell_type": "code",
   "execution_count": 68,
   "metadata": {
    "collapsed": false
   },
   "outputs": [],
   "source": [
    "import pandas as pd\n",
    "import database as db\n",
    "import datetime\n",
    "import matplotlib.pyplot as plt\n",
    "import seaborn as sns\n",
    "%matplotlib inline\n",
    "\n",
    "#import pony.orm as porm"
   ]
  },
  {
   "cell_type": "code",
   "execution_count": 4,
   "metadata": {
    "collapsed": false
   },
   "outputs": [
    {
     "name": "stdout",
     "output_type": "stream",
     "text": [
      "postgres user password: ········\n"
     ]
    }
   ],
   "source": [
    "db.set_up_connection(db.db, 'db_weather', user = 'webscrapers')\n"
   ]
  },
  {
   "cell_type": "code",
   "execution_count": 5,
   "metadata": {
    "collapsed": false
   },
   "outputs": [],
   "source": [
    "query = db.DailyMeasurement.select(lambda m: 'Berlin' in m.station.stationsname \n",
    "                                   and m.mess_datum == datetime.date(2018,5,1)).get_sql()"
   ]
  },
  {
   "cell_type": "code",
   "execution_count": 6,
   "metadata": {
    "collapsed": false
   },
   "outputs": [],
   "source": [
    "berlin_may1_2018 = pd.read_sql(query, db.conn_url)"
   ]
  },
  {
   "cell_type": "code",
   "execution_count": 12,
   "metadata": {
    "collapsed": false
   },
   "outputs": [],
   "source": [
    "query = db.DailyMeasurement.select(lambda m: 'Frankfurt' in m.station.stationsname and \n",
    "                                   m.mess_datum >= datetime.date(2018,2,1) and m.mess_datum < datetime.date(2018,5,1)).get_sql()"
   ]
  },
  {
   "cell_type": "code",
   "execution_count": 13,
   "metadata": {
    "collapsed": false
   },
   "outputs": [],
   "source": [
    "frankfurt_feb_may2018 = pd.read_sql(query, db.conn_url)"
   ]
  },
  {
   "cell_type": "code",
   "execution_count": 14,
   "metadata": {
    "collapsed": false
   },
   "outputs": [
    {
     "data": {
      "text/plain": [
       "[<matplotlib.lines.Line2D at 0x7f271ef4d320>]"
      ]
     },
     "execution_count": 14,
     "metadata": {},
     "output_type": "execute_result"
    },
    {
     "data": {
      "image/png": "[encoded data removed]",
      "text/plain": [
       "<matplotlib.figure.Figure at 0x7f271f11ff98>"
      ]
     },
     "metadata": {},
     "output_type": "display_data"
    }
   ],
   "source": [
    "#plotting maximum temperature from feb to may 2018\n",
    "plt.plot(frankfurt_feb_may2018['tmk']) # but we might want to plot an average of different stations "
   ]
  },
  {
   "cell_type": "code",
   "execution_count": 18,
   "metadata": {
    "collapsed": false
   },
   "outputs": [
    {
     "data": {
      "text/html": [
       "<div>\n",
       "<table border=\"1\" class=\"dataframe\">\n",
       "  <thead>\n",
       "    <tr style=\"text-align: right;\">\n",
       "      <th></th>\n",
       "      <th>mess_datum</th>\n",
       "      <th>station</th>\n",
       "      <th>tmk</th>\n",
       "    </tr>\n",
       "  </thead>\n",
       "  <tbody>\n",
       "    <tr>\n",
       "      <th>0</th>\n",
       "      <td>2018-04-30</td>\n",
       "      <td>1420</td>\n",
       "      <td>14.5</td>\n",
       "    </tr>\n",
       "    <tr>\n",
       "      <th>1</th>\n",
       "      <td>2018-04-29</td>\n",
       "      <td>1420</td>\n",
       "      <td>16.7</td>\n",
       "    </tr>\n",
       "    <tr>\n",
       "      <th>2</th>\n",
       "      <td>2018-04-28</td>\n",
       "      <td>1420</td>\n",
       "      <td>13.8</td>\n",
       "    </tr>\n",
       "    <tr>\n",
       "      <th>3</th>\n",
       "      <td>2018-04-27</td>\n",
       "      <td>1420</td>\n",
       "      <td>12.1</td>\n",
       "    </tr>\n",
       "    <tr>\n",
       "      <th>4</th>\n",
       "      <td>2018-04-26</td>\n",
       "      <td>1420</td>\n",
       "      <td>11.4</td>\n",
       "    </tr>\n",
       "    <tr>\n",
       "      <th>5</th>\n",
       "      <td>2018-04-25</td>\n",
       "      <td>1420</td>\n",
       "      <td>13.8</td>\n",
       "    </tr>\n",
       "    <tr>\n",
       "      <th>6</th>\n",
       "      <td>2018-04-24</td>\n",
       "      <td>1420</td>\n",
       "      <td>14.5</td>\n",
       "    </tr>\n",
       "    <tr>\n",
       "      <th>7</th>\n",
       "      <td>2018-04-23</td>\n",
       "      <td>1420</td>\n",
       "      <td>17.8</td>\n",
       "    </tr>\n",
       "    <tr>\n",
       "      <th>8</th>\n",
       "      <td>2018-04-22</td>\n",
       "      <td>1420</td>\n",
       "      <td>20.9</td>\n",
       "    </tr>\n",
       "    <tr>\n",
       "      <th>9</th>\n",
       "      <td>2018-04-21</td>\n",
       "      <td>1420</td>\n",
       "      <td>19.4</td>\n",
       "    </tr>\n",
       "    <tr>\n",
       "      <th>10</th>\n",
       "      <td>2018-04-20</td>\n",
       "      <td>1420</td>\n",
       "      <td>19.8</td>\n",
       "    </tr>\n",
       "    <tr>\n",
       "      <th>11</th>\n",
       "      <td>2018-04-19</td>\n",
       "      <td>1420</td>\n",
       "      <td>20.1</td>\n",
       "    </tr>\n",
       "    <tr>\n",
       "      <th>12</th>\n",
       "      <td>2018-04-18</td>\n",
       "      <td>1420</td>\n",
       "      <td>18.4</td>\n",
       "    </tr>\n",
       "    <tr>\n",
       "      <th>13</th>\n",
       "      <td>2018-04-17</td>\n",
       "      <td>1420</td>\n",
       "      <td>15.4</td>\n",
       "    </tr>\n",
       "    <tr>\n",
       "      <th>14</th>\n",
       "      <td>2018-04-16</td>\n",
       "      <td>1420</td>\n",
       "      <td>15.2</td>\n",
       "    </tr>\n",
       "    <tr>\n",
       "      <th>15</th>\n",
       "      <td>2018-04-15</td>\n",
       "      <td>1420</td>\n",
       "      <td>15.6</td>\n",
       "    </tr>\n",
       "    <tr>\n",
       "      <th>16</th>\n",
       "      <td>2018-04-14</td>\n",
       "      <td>1420</td>\n",
       "      <td>12.6</td>\n",
       "    </tr>\n",
       "    <tr>\n",
       "      <th>17</th>\n",
       "      <td>2018-04-13</td>\n",
       "      <td>1420</td>\n",
       "      <td>10.1</td>\n",
       "    </tr>\n",
       "    <tr>\n",
       "      <th>18</th>\n",
       "      <td>2018-04-12</td>\n",
       "      <td>1420</td>\n",
       "      <td>15.6</td>\n",
       "    </tr>\n",
       "    <tr>\n",
       "      <th>19</th>\n",
       "      <td>2018-04-11</td>\n",
       "      <td>1420</td>\n",
       "      <td>12.4</td>\n",
       "    </tr>\n",
       "    <tr>\n",
       "      <th>20</th>\n",
       "      <td>2018-04-10</td>\n",
       "      <td>1420</td>\n",
       "      <td>13.8</td>\n",
       "    </tr>\n",
       "    <tr>\n",
       "      <th>21</th>\n",
       "      <td>2018-04-09</td>\n",
       "      <td>1420</td>\n",
       "      <td>15.7</td>\n",
       "    </tr>\n",
       "    <tr>\n",
       "      <th>22</th>\n",
       "      <td>2018-04-08</td>\n",
       "      <td>1420</td>\n",
       "      <td>16.2</td>\n",
       "    </tr>\n",
       "    <tr>\n",
       "      <th>23</th>\n",
       "      <td>2018-04-07</td>\n",
       "      <td>1420</td>\n",
       "      <td>13.7</td>\n",
       "    </tr>\n",
       "    <tr>\n",
       "      <th>24</th>\n",
       "      <td>2018-04-06</td>\n",
       "      <td>1420</td>\n",
       "      <td>7.7</td>\n",
       "    </tr>\n",
       "    <tr>\n",
       "      <th>25</th>\n",
       "      <td>2018-04-05</td>\n",
       "      <td>1420</td>\n",
       "      <td>8.8</td>\n",
       "    </tr>\n",
       "    <tr>\n",
       "      <th>26</th>\n",
       "      <td>2018-04-04</td>\n",
       "      <td>1420</td>\n",
       "      <td>11.5</td>\n",
       "    </tr>\n",
       "    <tr>\n",
       "      <th>27</th>\n",
       "      <td>2018-04-03</td>\n",
       "      <td>1420</td>\n",
       "      <td>14.1</td>\n",
       "    </tr>\n",
       "    <tr>\n",
       "      <th>28</th>\n",
       "      <td>2018-04-02</td>\n",
       "      <td>1420</td>\n",
       "      <td>8.9</td>\n",
       "    </tr>\n",
       "    <tr>\n",
       "      <th>29</th>\n",
       "      <td>2018-04-01</td>\n",
       "      <td>1420</td>\n",
       "      <td>8.1</td>\n",
       "    </tr>\n",
       "    <tr>\n",
       "      <th>...</th>\n",
       "      <td>...</td>\n",
       "      <td>...</td>\n",
       "      <td>...</td>\n",
       "    </tr>\n",
       "    <tr>\n",
       "      <th>148</th>\n",
       "      <td>2018-02-08</td>\n",
       "      <td>1424</td>\n",
       "      <td>-1.0</td>\n",
       "    </tr>\n",
       "    <tr>\n",
       "      <th>149</th>\n",
       "      <td>2018-02-07</td>\n",
       "      <td>1424</td>\n",
       "      <td>0.5</td>\n",
       "    </tr>\n",
       "    <tr>\n",
       "      <th>150</th>\n",
       "      <td>2018-02-06</td>\n",
       "      <td>1424</td>\n",
       "      <td>-0.2</td>\n",
       "    </tr>\n",
       "    <tr>\n",
       "      <th>151</th>\n",
       "      <td>2018-02-05</td>\n",
       "      <td>1424</td>\n",
       "      <td>0.4</td>\n",
       "    </tr>\n",
       "    <tr>\n",
       "      <th>152</th>\n",
       "      <td>2018-02-04</td>\n",
       "      <td>1424</td>\n",
       "      <td>0.8</td>\n",
       "    </tr>\n",
       "    <tr>\n",
       "      <th>153</th>\n",
       "      <td>2018-02-03</td>\n",
       "      <td>1424</td>\n",
       "      <td>3.0</td>\n",
       "    </tr>\n",
       "    <tr>\n",
       "      <th>154</th>\n",
       "      <td>2018-02-02</td>\n",
       "      <td>1424</td>\n",
       "      <td>2.8</td>\n",
       "    </tr>\n",
       "    <tr>\n",
       "      <th>155</th>\n",
       "      <td>2018-02-01</td>\n",
       "      <td>1424</td>\n",
       "      <td>4.0</td>\n",
       "    </tr>\n",
       "    <tr>\n",
       "      <th>156</th>\n",
       "      <td>2018-04-30</td>\n",
       "      <td>1424</td>\n",
       "      <td>14.9</td>\n",
       "    </tr>\n",
       "    <tr>\n",
       "      <th>157</th>\n",
       "      <td>2018-04-29</td>\n",
       "      <td>1424</td>\n",
       "      <td>17.2</td>\n",
       "    </tr>\n",
       "    <tr>\n",
       "      <th>158</th>\n",
       "      <td>2018-04-28</td>\n",
       "      <td>1424</td>\n",
       "      <td>14.6</td>\n",
       "    </tr>\n",
       "    <tr>\n",
       "      <th>159</th>\n",
       "      <td>2018-04-27</td>\n",
       "      <td>1424</td>\n",
       "      <td>13.7</td>\n",
       "    </tr>\n",
       "    <tr>\n",
       "      <th>160</th>\n",
       "      <td>2018-04-26</td>\n",
       "      <td>1424</td>\n",
       "      <td>12.0</td>\n",
       "    </tr>\n",
       "    <tr>\n",
       "      <th>161</th>\n",
       "      <td>2018-04-25</td>\n",
       "      <td>1424</td>\n",
       "      <td>14.8</td>\n",
       "    </tr>\n",
       "    <tr>\n",
       "      <th>162</th>\n",
       "      <td>2018-04-24</td>\n",
       "      <td>1424</td>\n",
       "      <td>16.2</td>\n",
       "    </tr>\n",
       "    <tr>\n",
       "      <th>163</th>\n",
       "      <td>2018-04-23</td>\n",
       "      <td>1424</td>\n",
       "      <td>18.9</td>\n",
       "    </tr>\n",
       "    <tr>\n",
       "      <th>164</th>\n",
       "      <td>2018-04-22</td>\n",
       "      <td>1424</td>\n",
       "      <td>21.5</td>\n",
       "    </tr>\n",
       "    <tr>\n",
       "      <th>165</th>\n",
       "      <td>2018-04-21</td>\n",
       "      <td>1424</td>\n",
       "      <td>20.4</td>\n",
       "    </tr>\n",
       "    <tr>\n",
       "      <th>166</th>\n",
       "      <td>2018-04-20</td>\n",
       "      <td>1424</td>\n",
       "      <td>20.4</td>\n",
       "    </tr>\n",
       "    <tr>\n",
       "      <th>167</th>\n",
       "      <td>2018-04-19</td>\n",
       "      <td>1424</td>\n",
       "      <td>20.4</td>\n",
       "    </tr>\n",
       "    <tr>\n",
       "      <th>168</th>\n",
       "      <td>2018-04-18</td>\n",
       "      <td>1424</td>\n",
       "      <td>18.7</td>\n",
       "    </tr>\n",
       "    <tr>\n",
       "      <th>169</th>\n",
       "      <td>2018-04-17</td>\n",
       "      <td>1424</td>\n",
       "      <td>16.7</td>\n",
       "    </tr>\n",
       "    <tr>\n",
       "      <th>170</th>\n",
       "      <td>2018-04-16</td>\n",
       "      <td>1424</td>\n",
       "      <td>16.2</td>\n",
       "    </tr>\n",
       "    <tr>\n",
       "      <th>171</th>\n",
       "      <td>2018-04-15</td>\n",
       "      <td>1424</td>\n",
       "      <td>16.1</td>\n",
       "    </tr>\n",
       "    <tr>\n",
       "      <th>172</th>\n",
       "      <td>2018-04-14</td>\n",
       "      <td>1424</td>\n",
       "      <td>13.9</td>\n",
       "    </tr>\n",
       "    <tr>\n",
       "      <th>173</th>\n",
       "      <td>2018-04-13</td>\n",
       "      <td>1424</td>\n",
       "      <td>11.8</td>\n",
       "    </tr>\n",
       "    <tr>\n",
       "      <th>174</th>\n",
       "      <td>2018-04-12</td>\n",
       "      <td>1424</td>\n",
       "      <td>16.0</td>\n",
       "    </tr>\n",
       "    <tr>\n",
       "      <th>175</th>\n",
       "      <td>2018-04-11</td>\n",
       "      <td>1424</td>\n",
       "      <td>12.4</td>\n",
       "    </tr>\n",
       "    <tr>\n",
       "      <th>176</th>\n",
       "      <td>2018-04-10</td>\n",
       "      <td>1424</td>\n",
       "      <td>15.3</td>\n",
       "    </tr>\n",
       "    <tr>\n",
       "      <th>177</th>\n",
       "      <td>2018-04-09</td>\n",
       "      <td>1424</td>\n",
       "      <td>16.6</td>\n",
       "    </tr>\n",
       "  </tbody>\n",
       "</table>\n",
       "<p>178 rows × 3 columns</p>\n",
       "</div>"
      ],
      "text/plain": [
       "     mess_datum  station   tmk\n",
       "0    2018-04-30     1420  14.5\n",
       "1    2018-04-29     1420  16.7\n",
       "2    2018-04-28     1420  13.8\n",
       "3    2018-04-27     1420  12.1\n",
       "4    2018-04-26     1420  11.4\n",
       "5    2018-04-25     1420  13.8\n",
       "6    2018-04-24     1420  14.5\n",
       "7    2018-04-23     1420  17.8\n",
       "8    2018-04-22     1420  20.9\n",
       "9    2018-04-21     1420  19.4\n",
       "10   2018-04-20     1420  19.8\n",
       "11   2018-04-19     1420  20.1\n",
       "12   2018-04-18     1420  18.4\n",
       "13   2018-04-17     1420  15.4\n",
       "14   2018-04-16     1420  15.2\n",
       "15   2018-04-15     1420  15.6\n",
       "16   2018-04-14     1420  12.6\n",
       "17   2018-04-13     1420  10.1\n",
       "18   2018-04-12     1420  15.6\n",
       "19   2018-04-11     1420  12.4\n",
       "20   2018-04-10     1420  13.8\n",
       "21   2018-04-09     1420  15.7\n",
       "22   2018-04-08     1420  16.2\n",
       "23   2018-04-07     1420  13.7\n",
       "24   2018-04-06     1420   7.7\n",
       "25   2018-04-05     1420   8.8\n",
       "26   2018-04-04     1420  11.5\n",
       "27   2018-04-03     1420  14.1\n",
       "28   2018-04-02     1420   8.9\n",
       "29   2018-04-01     1420   8.1\n",
       "..          ...      ...   ...\n",
       "148  2018-02-08     1424  -1.0\n",
       "149  2018-02-07     1424   0.5\n",
       "150  2018-02-06     1424  -0.2\n",
       "151  2018-02-05     1424   0.4\n",
       "152  2018-02-04     1424   0.8\n",
       "153  2018-02-03     1424   3.0\n",
       "154  2018-02-02     1424   2.8\n",
       "155  2018-02-01     1424   4.0\n",
       "156  2018-04-30     1424  14.9\n",
       "157  2018-04-29     1424  17.2\n",
       "158  2018-04-28     1424  14.6\n",
       "159  2018-04-27     1424  13.7\n",
       "160  2018-04-26     1424  12.0\n",
       "161  2018-04-25     1424  14.8\n",
       "162  2018-04-24     1424  16.2\n",
       "163  2018-04-23     1424  18.9\n",
       "164  2018-04-22     1424  21.5\n",
       "165  2018-04-21     1424  20.4\n",
       "166  2018-04-20     1424  20.4\n",
       "167  2018-04-19     1424  20.4\n",
       "168  2018-04-18     1424  18.7\n",
       "169  2018-04-17     1424  16.7\n",
       "170  2018-04-16     1424  16.2\n",
       "171  2018-04-15     1424  16.1\n",
       "172  2018-04-14     1424  13.9\n",
       "173  2018-04-13     1424  11.8\n",
       "174  2018-04-12     1424  16.0\n",
       "175  2018-04-11     1424  12.4\n",
       "176  2018-04-10     1424  15.3\n",
       "177  2018-04-09     1424  16.6\n",
       "\n",
       "[178 rows x 3 columns]"
      ]
     },
     "execution_count": 18,
     "metadata": {},
     "output_type": "execute_result"
    }
   ],
   "source": [
    "# plotting max temperature by taking average over station ids\n",
    "frankfurt_feb_may2018[['mess_datum', 'station', 'tmk']]"
   ]
  },
  {
   "cell_type": "code",
   "execution_count": 16,
   "metadata": {
    "collapsed": false
   },
   "outputs": [],
   "source": [
    "frankfurt_feb_may2018[['mess_datum','station']]"
   ]
  },
  {
   "cell_type": "code",
   "execution_count": 11,
   "metadata": {
    "collapsed": false
   },
   "outputs": [
    {
     "data": {
      "text/html": [
       "<div>\n",
       "<table border=\"1\" class=\"dataframe\">\n",
       "  <thead>\n",
       "    <tr style=\"text-align: right;\">\n",
       "      <th></th>\n",
       "      <th>mess_datum</th>\n",
       "      <th>stations_id</th>\n",
       "      <th>station</th>\n",
       "      <th>qn_3</th>\n",
       "      <th>fx</th>\n",
       "      <th>fm</th>\n",
       "      <th>qn_4</th>\n",
       "      <th>rsk</th>\n",
       "      <th>rskf</th>\n",
       "      <th>sdk</th>\n",
       "      <th>shk_tag</th>\n",
       "      <th>nm</th>\n",
       "      <th>vpm</th>\n",
       "      <th>pm</th>\n",
       "      <th>tmk</th>\n",
       "      <th>upm</th>\n",
       "      <th>txk</th>\n",
       "      <th>tnk</th>\n",
       "      <th>tgk</th>\n",
       "    </tr>\n",
       "  </thead>\n",
       "  <tbody>\n",
       "    <tr>\n",
       "      <th>52</th>\n",
       "      <td>2018-03-09</td>\n",
       "      <td>1420</td>\n",
       "      <td>1420</td>\n",
       "      <td>3.0</td>\n",
       "      <td>8.2</td>\n",
       "      <td>2.1</td>\n",
       "      <td>3</td>\n",
       "      <td>9.5</td>\n",
       "      <td>6.0</td>\n",
       "      <td>0.0</td>\n",
       "      <td>0.0</td>\n",
       "      <td>7.3</td>\n",
       "      <td>8.2</td>\n",
       "      <td>996.04</td>\n",
       "      <td>5.3</td>\n",
       "      <td>91.17</td>\n",
       "      <td>8.5</td>\n",
       "      <td>1.1</td>\n",
       "      <td>-1.1</td>\n",
       "    </tr>\n",
       "    <tr>\n",
       "      <th>118</th>\n",
       "      <td>2018-03-09</td>\n",
       "      <td>1424</td>\n",
       "      <td>1424</td>\n",
       "      <td>NaN</td>\n",
       "      <td>NaN</td>\n",
       "      <td>NaN</td>\n",
       "      <td>3</td>\n",
       "      <td>6.3</td>\n",
       "      <td>4.0</td>\n",
       "      <td>NaN</td>\n",
       "      <td>NaN</td>\n",
       "      <td>NaN</td>\n",
       "      <td>8.6</td>\n",
       "      <td>NaN</td>\n",
       "      <td>5.8</td>\n",
       "      <td>91.83</td>\n",
       "      <td>8.0</td>\n",
       "      <td>2.9</td>\n",
       "      <td>0.8</td>\n",
       "    </tr>\n",
       "  </tbody>\n",
       "</table>\n",
       "</div>"
      ],
      "text/plain": [
       "     mess_datum  stations_id  station  qn_3   fx   fm  qn_4  rsk  rskf  sdk  \\\n",
       "52   2018-03-09         1420     1420   3.0  8.2  2.1     3  9.5   6.0  0.0   \n",
       "118  2018-03-09         1424     1424   NaN  NaN  NaN     3  6.3   4.0  NaN   \n",
       "\n",
       "     shk_tag   nm  vpm      pm  tmk    upm  txk  tnk  tgk  \n",
       "52       0.0  7.3  8.2  996.04  5.3  91.17  8.5  1.1 -1.1  \n",
       "118      NaN  NaN  8.6     NaN  5.8  91.83  8.0  2.9  0.8  "
      ]
     },
     "execution_count": 11,
     "metadata": {},
     "output_type": "execute_result"
    }
   ],
   "source": [
    "frankfurt_feb_may2018.loc[frankfurt_feb_may2018['mess_datum']==datetime.date(2018,3,9)]"
   ]
  },
  {
   "cell_type": "code",
   "execution_count": 37,
   "metadata": {
    "collapsed": false
   },
   "outputs": [],
   "source": [
    "means_ondates = frankfurt_feb_may2018.groupby(['mess_datum']).mean()"
   ]
  },
  {
   "cell_type": "code",
   "execution_count": 44,
   "metadata": {
    "collapsed": false
   },
   "outputs": [
    {
     "data": {
      "text/plain": [
       "datetime.date"
      ]
     },
     "execution_count": 44,
     "metadata": {},
     "output_type": "execute_result"
    }
   ],
   "source": [
    "type(frankfurt_feb_may2018.mess_datum[0])"
   ]
  },
  {
   "cell_type": "code",
   "execution_count": 101,
   "metadata": {
    "collapsed": false
   },
   "outputs": [
    {
     "data": {
      "image/png": "[encoded data removed]",
      "text/plain": [
       "<matplotlib.figure.Figure at 0x7f271ec27080>"
      ]
     },
     "metadata": {},
     "output_type": "display_data"
    }
   ],
   "source": [
    "plt.figure(figsize = (12,7))\n",
    "plt.plot(means_ondates['tmk']);\n"
   ]
  },
  {
   "cell_type": "code",
   "execution_count": 98,
   "metadata": {
    "collapsed": false
   },
   "outputs": [],
   "source": [
    "from datetime import datetime, timedelta\n",
    "from collections import OrderedDict\n",
    "\n",
    "\n",
    "#MONTHS = {'01':'Jan', '02': 'Feb', '03': 'Mar', '04': 'Apr', '05': 'May', '06': 'Jun', \n",
    "#          '07': 'Jul', '08': 'Aug', '09': 'Sep', '10': 'Oct', '11': 'Nov', '12': 'Dec'}\n",
    "\n",
    "def labels_month_year(dates):\n",
    "    start, end = [datetime.datetime.strptime(_, \"%Y-%m-%d\") for _ in dates]\n",
    "    labels = OrderedDict(((start + timedelta(_)).strftime(r\"%b-%y\"), None) for _ in range((end - start).days)).keys()\n",
    "\n",
    "    return labels\n",
    "\n"
   ]
  },
  {
   "cell_type": "code",
   "execution_count": 99,
   "metadata": {
    "collapsed": false
   },
   "outputs": [],
   "source": [
    "import datetime\n",
    "from collections import OrderedDict\n",
    "\n",
    "dates = [datetime.date(2018,2,1).isoformat(), datetime.date(2018,5,1).isoformat()]\n",
    "l= labels_month_year(dates)\n"
   ]
  },
  {
   "cell_type": "code",
   "execution_count": 94,
   "metadata": {
    "collapsed": false
   },
   "outputs": [
    {
     "data": {
      "text/plain": [
       "odict_keys(['Feb-18', 'Mar-18', 'Apr-18'])"
      ]
     },
     "execution_count": 94,
     "metadata": {},
     "output_type": "execute_result"
    }
   ],
   "source": [
    "start, end = [datetime.datetime.strptime(_, \"%Y-%m-%d\") for _ in dates]\n",
    "labels = OrderedDict(((start + timedelta(_)).strftime(r\"%b-%y\"), None) for _ in range((end - start).days)).keys()\n",
    "labels"
   ]
  }
 ],
 "metadata": {
  "kernelspec": {
   "display_name": "Python 3",
   "language": "python",
   "name": "python3"
  },
  "language_info": {
   "codemirror_mode": {
    "name": "ipython",
    "version": 3
   },
   "file_extension": ".py",
   "mimetype": "text/x-python",
   "name": "python",
   "nbconvert_exporter": "python",
   "pygments_lexer": "ipython3",
   "version": "3.5.3"
  }
 },
 "nbformat": 4,
 "nbformat_minor": 2
}
